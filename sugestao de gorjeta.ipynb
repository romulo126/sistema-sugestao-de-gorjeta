{
 "cells": [
  {
   "cell_type": "markdown",
   "metadata": {},
   "source": [
    "## Imports"
   ]
  },
  {
   "cell_type": "code",
   "execution_count": 1,
   "metadata": {},
   "outputs": [],
   "source": [
    "import numpy as np\n",
    "import skfuzzy as fuzz\n",
    "from skfuzzy import control as ctrl"
   ]
  },
  {
   "cell_type": "markdown",
   "metadata": {},
   "source": [
    "## Antecedentes e consequentenp.arange(0,11,1)"
   ]
  },
  {
   "cell_type": "code",
   "execution_count": 2,
   "metadata": {},
   "outputs": [],
   "source": [
    "qualidade = ctrl.Antecedent(np.arange(0,11,1), 'qualidade')\n",
    "servico = ctrl.Antecedent(np.arange(0,11,1), 'servico')"
   ]
  },
  {
   "cell_type": "code",
   "execution_count": 3,
   "metadata": {},
   "outputs": [],
   "source": [
    "gorjeta = ctrl.Consequent(np.arange(0,21,1),'gorjeta')"
   ]
  },
  {
   "cell_type": "markdown",
   "metadata": {},
   "source": [
    "## Membership functions"
   ]
  },
  {
   "cell_type": "code",
   "execution_count": 4,
   "metadata": {},
   "outputs": [],
   "source": [
    "qualidade.automf(number=3,names=['ruim','boa','saborosa'])\n",
    "servico.automf(number=3,names=['ruim','aceitável','ótima'])"
   ]
  },
  {
   "cell_type": "code",
   "execution_count": 5,
   "metadata": {},
   "outputs": [],
   "source": [
    "gorjeta['baixa'] = fuzz.trimf(gorjeta.universe,[0,0,8])\n",
    "gorjeta['media'] = fuzz.trimf(gorjeta.universe,[2,10,20])\n",
    "gorjeta['alta'] = fuzz.trimf(gorjeta.universe,[12,20,20])"
   ]
  },
  {
   "cell_type": "code",
   "execution_count": 6,
   "metadata": {},
   "outputs": [],
   "source": [
    "regra1 = ctrl.Rule(qualidade['ruim'] | servico['ruim'],gorjeta['baixa'])\n",
    "regra2 = ctrl.Rule(servico['aceitável'],gorjeta['media'])\n",
    "regra3 = ctrl.Rule(servico['ótima'] | qualidade['saborosa'],gorjeta['alta'])"
   ]
  },
  {
   "cell_type": "markdown",
   "metadata": {},
   "source": [
    "## Sistema de controle"
   ]
  },
  {
   "cell_type": "code",
   "execution_count": 7,
   "metadata": {},
   "outputs": [],
   "source": [
    "sistema_de_controle = ctrl.ControlSystem([regra1,regra2,regra3])"
   ]
  },
  {
   "cell_type": "code",
   "execution_count": 8,
   "metadata": {},
   "outputs": [],
   "source": [
    "sistema = ctrl.ControlSystemSimulation(sistema_de_controle)"
   ]
  },
  {
   "cell_type": "code",
   "execution_count": 9,
   "metadata": {},
   "outputs": [
    {
     "name": "stdin",
     "output_type": "stream",
     "text": [
      "Escolha um valor de 0 a 10: 0.5\n",
      "De 0 - 10 qual sua nota para o serviço: 5\n"
     ]
    },
    {
     "name": "stdout",
     "output_type": "stream",
     "text": [
      "8.536628643852977\n"
     ]
    }
   ],
   "source": [
    "try:\n",
    "    nota_qualidade = float(input('Escolha um valor de 0 a 10:'))\n",
    "    nota_servico = float(input('De 0 - 10 qual sua nota para o serviço:'))\n",
    "    sistema.input['qualidade']=nota_qualidade\n",
    "    sistema.input['servico']=nota_servico\n",
    "    sistema.compute()\n",
    "    print(sistema.output['gorjeta'])\n",
    "except ValueError:\n",
    "     print(\"Digite apenas numeros!\")"
   ]
  }
 ],
 "metadata": {
  "kernelspec": {
   "display_name": "Python 3",
   "language": "python",
   "name": "python3"
  },
  "language_info": {
   "codemirror_mode": {
    "name": "ipython",
    "version": 3
   },
   "file_extension": ".py",
   "mimetype": "text/x-python",
   "name": "python",
   "nbconvert_exporter": "python",
   "pygments_lexer": "ipython3",
   "version": "3.8.3"
  }
 },
 "nbformat": 4,
 "nbformat_minor": 4
}
